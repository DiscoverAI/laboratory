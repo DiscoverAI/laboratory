{
 "cells": [
  {
   "cell_type": "markdown",
   "metadata": {},
   "source": [
    "# General Information about SARS‐CoV‐2\n",
    "\n",
    "The desease _COVID-19_ (coronavirus desease 2019) is caused by the _severe acute respiratory syndrome coronavirus 2_ (*SARS-CoV-2*) which is a novelty (new) coronavirus[^1]. It is one of many viruses identified as coronavirus (e.g. MERS, SARS)[^1]. It is zoonotic, which means it jumped from animals to humans[^1]. It shares 79.5% of the genetic sequence of SARS-CoV[^2] (89.8% of spike protein[^5]).\n",
    "\n",
    "SARS-CoV-2 is found within the β‐coronavirus cluster (of in total 4 clusters: alpha-CoV, beta-CoV, gamma-CoV, and delta-CoV). A coronavirus has the structure of **Figure 1**[^3]. The virus was named after the structure of its spikes on the outer shell which under a electron microscope look like a crown (spanish corona). These spike glycoproteins bind to receptors on human cells and enable the virus to enter the human cells presumably via endocytosis[^4].\n",
    "\n",
    "Within its membrane it harbours its RNA. This RNA gets into the host cell. Inside the hosts cell the RNA invokes RNA polymerase. The host cell is then used to produce proteins based on the RNA of the coronavirus.\n",
    "\n",
    "The membrane of the coronavirus consists of also of a lipid bilayer, which is why soap is so effective against SARS-CoV-2.\n",
    "\n",
    "![Structure of coronavirus virion](./coronavirus-schema.png)\n",
    "**Figure 1**\n",
    "\n",
    "[^1]: Sun, P., Lu, X., Xu, C., Sun, W., & Pan, B. (2020). Understanding of COVID‐19 based on current evidence. Journal of Medical Virology, (February), 10–13. https://doi.org/10.1002/jmv.25722\n",
    "\n",
    "[^2]: di Mauro Gabriella, Cristina, S., Concetta, R., Francesco, R., & Annalisa, C. (2020). SARS-Cov-2 infection: Response of human immune system and possible implications for the rapid test and treatment. International Immunopharmacology, 84. https://doi.org/10.1016/j.intimp.2020.106519\n",
    "\n",
    "[^3]: Holmes, K. V. (2003). SARS-associated coronavirus. New England Journal of Medicine, 348(20), 1948–1951. https://doi.org/10.1056/NEJMp030078\n",
    "\n",
    "[^4]: Ou, X., Liu, Y., Lei, X., Li, P., Mi, D., Ren, L., … Qian, Z. (2020). Characterization of spike glycoprotein of SARS-CoV-2 on virus entry and its immune cross-reactivity with SARS-CoV. Nature Communications, 11(1). https://doi.org/10.1038/s41467-020-15562-9\n",
    "\n",
    "[^5]: Xia, S., Liu, M., Wang, C., Xu, W., Lan, Q., Feng, S., … Lu, L. (2020). Inhibition of SARS-CoV-2 (previously 2019-nCoV) infection by a highly potent pan-coronavirus fusion inhibitor targeting its spike protein that harbors a high capacity to mediate membrane fusion. Cell Research, 2(March). https://doi.org/10.1038/s41422-020-0305-x"
   ]
  },
  {
   "cell_type": "code",
   "execution_count": null,
   "metadata": {},
   "outputs": [],
   "source": []
  }
 ],
 "metadata": {
  "kernelspec": {
   "display_name": "Python 3",
   "language": "python",
   "name": "python3"
  },
  "language_info": {
   "codemirror_mode": {
    "name": "ipython",
    "version": 3
   },
   "file_extension": ".py",
   "mimetype": "text/x-python",
   "name": "python",
   "nbconvert_exporter": "python",
   "pygments_lexer": "ipython3",
   "version": "3.7.6"
  }
 },
 "nbformat": 4,
 "nbformat_minor": 4
}
